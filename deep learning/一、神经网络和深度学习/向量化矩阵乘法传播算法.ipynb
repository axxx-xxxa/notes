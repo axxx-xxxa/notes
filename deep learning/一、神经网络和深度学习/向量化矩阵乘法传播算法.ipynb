{
 "cells": [
  {
   "cell_type": "code",
   "execution_count": 43,
   "metadata": {},
   "outputs": [
    {
     "name": "stdout",
     "output_type": "stream",
     "text": [
      "[[ 76]\n",
      " [111]]\n"
     ]
    }
   ],
   "source": [
    "import numpy as np\n",
    "\n",
    "a = np.array([1,2,3,4,5,6,7,6,4,4]).reshape(2,5)\n",
    "b = np.array([3,3,4,5,7]).reshape(5,1)\n",
    "print(np.dot(a,b))"
   ]
  },
  {
   "cell_type": "code",
   "execution_count": 44,
   "metadata": {},
   "outputs": [
    {
     "name": "stdout",
     "output_type": "stream",
     "text": [
      "[[2 3 2 3]\n",
      " [4 5 4 5]\n",
      " [6 7 6 7]]\n"
     ]
    }
   ],
   "source": [
    "\n",
    "a=np.array([[1],[3],[5]])\n",
    "b=np.array([1,2,1,2])\n",
    "print(a+b)\n",
    " "
   ]
  },
  {
   "cell_type": "code",
   "execution_count": 26,
   "metadata": {},
   "outputs": [
    {
     "name": "stdout",
     "output_type": "stream",
     "text": [
      "250282.33782252195\n",
      "Vectorized version:0.9679794311523438ms\n",
      "250282.33782252474\n",
      "Non-Vectorized version:559.5285892486572\n"
     ]
    }
   ],
   "source": [
    "import time \n",
    "\n",
    "a = np.random.rand(1000000)\n",
    "b = np.random.rand(1000000)\n",
    "\n",
    "time1 = time.time()\n",
    "c = np.dot(a,b)\n",
    "time2 = time.time()\n",
    "print(c)\n",
    "print(\"Vectorized version:\" + str(float((time2-time1)*1000))+\"ms\")\n",
    "\n",
    "c = 0\n",
    "time3 = time.time()\n",
    "for i in range(1000000):\n",
    "    c += a[i]*b[i]\n",
    "time4 = time.time()\n",
    "print(c)\n",
    "print(\"Non-Vectorized version:\" +str((time4-time3)*1000))"
   ]
  }
 ],
 "metadata": {
  "kernelspec": {
   "display_name": "Python 3",
   "language": "python",
   "name": "python3"
  },
  "language_info": {
   "codemirror_mode": {
    "name": "ipython",
    "version": 3
   },
   "file_extension": ".py",
   "mimetype": "text/x-python",
   "name": "python",
   "nbconvert_exporter": "python",
   "pygments_lexer": "ipython3",
   "version": "3.8.3"
  }
 },
 "nbformat": 4,
 "nbformat_minor": 4
}
